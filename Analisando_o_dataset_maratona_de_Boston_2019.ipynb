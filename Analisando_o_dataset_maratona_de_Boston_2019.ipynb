{
  "nbformat": 4,
  "nbformat_minor": 0,
  "metadata": {
    "colab": {
      "name": "Analisando o dataset maratona de Boston 2019",
      "provenance": [],
      "collapsed_sections": [],
      "authorship_tag": "ABX9TyPva91z0bfhCskuAj28ELAH",
      "include_colab_link": true
    },
    "kernelspec": {
      "name": "python3",
      "display_name": "Python 3"
    }
  },
  "cells": [
    {
      "cell_type": "markdown",
      "metadata": {
        "id": "view-in-github",
        "colab_type": "text"
      },
      "source": [
        "<a href=\"https://colab.research.google.com/github/thiagoramos20042/an-lise-explorat-ria-maratona-de-Boston/blob/main/Analisando_o_dataset_maratona_de_Boston_2019.ipynb\" target=\"_parent\"><img src=\"https://colab.research.google.com/assets/colab-badge.svg\" alt=\"Open In Colab\"/></a>"
      ]
    },
    {
      "cell_type": "code",
      "metadata": {
        "id": "HNJSeAdzFd1K"
      },
      "source": [
        "# Importando as bibliotecas:\n",
        "import pandas as pd\n",
        "import matplotlib.pyplot as plt\n",
        "import seaborn as sns\n"
      ],
      "execution_count": null,
      "outputs": []
    },
    {
      "cell_type": "code",
      "metadata": {
        "id": "ViEM25ipFxqh"
      },
      "source": [
        "# Carregando a base de dados:\n",
        "dataset = pd.read_csv('/content/Dataset-Boston-2019.csv')"
      ],
      "execution_count": null,
      "outputs": []
    },
    {
      "cell_type": "code",
      "metadata": {
        "id": "rehPFSuaF6Fe",
        "outputId": "b34c17e1-188f-444d-8650-2165adb1c002",
        "colab": {
          "base_uri": "https://localhost:8080/",
          "height": 204
        }
      },
      "source": [
        "# Visualizando as 5 primeiras linhas do Dataframe:\n",
        "dataset.head()"
      ],
      "execution_count": null,
      "outputs": [
        {
          "output_type": "execute_result",
          "data": {
            "text/html": [
              "<div>\n",
              "<style scoped>\n",
              "    .dataframe tbody tr th:only-of-type {\n",
              "        vertical-align: middle;\n",
              "    }\n",
              "\n",
              "    .dataframe tbody tr th {\n",
              "        vertical-align: top;\n",
              "    }\n",
              "\n",
              "    .dataframe thead th {\n",
              "        text-align: right;\n",
              "    }\n",
              "</style>\n",
              "<table border=\"1\" class=\"dataframe\">\n",
              "  <thead>\n",
              "    <tr style=\"text-align: right;\">\n",
              "      <th></th>\n",
              "      <th>Rank_Tot</th>\n",
              "      <th>Age</th>\n",
              "      <th>Gender</th>\n",
              "      <th>Country</th>\n",
              "      <th>Result_hr</th>\n",
              "      <th>Result_sec</th>\n",
              "      <th>Rank_Gender</th>\n",
              "      <th>Country_code</th>\n",
              "    </tr>\n",
              "  </thead>\n",
              "  <tbody>\n",
              "    <tr>\n",
              "      <th>0</th>\n",
              "      <td>1</td>\n",
              "      <td>30</td>\n",
              "      <td>M</td>\n",
              "      <td>Kenya</td>\n",
              "      <td>2:07:57</td>\n",
              "      <td>7677</td>\n",
              "      <td>1</td>\n",
              "      <td>KEN</td>\n",
              "    </tr>\n",
              "    <tr>\n",
              "      <th>1</th>\n",
              "      <td>2</td>\n",
              "      <td>29</td>\n",
              "      <td>M</td>\n",
              "      <td>Ethiopia</td>\n",
              "      <td>2:07:59</td>\n",
              "      <td>7679</td>\n",
              "      <td>2</td>\n",
              "      <td>ETH</td>\n",
              "    </tr>\n",
              "    <tr>\n",
              "      <th>2</th>\n",
              "      <td>3</td>\n",
              "      <td>34</td>\n",
              "      <td>M</td>\n",
              "      <td>Kenya</td>\n",
              "      <td>2:08:07</td>\n",
              "      <td>7687</td>\n",
              "      <td>3</td>\n",
              "      <td>KEN</td>\n",
              "    </tr>\n",
              "    <tr>\n",
              "      <th>3</th>\n",
              "      <td>4</td>\n",
              "      <td>32</td>\n",
              "      <td>M</td>\n",
              "      <td>Kenya</td>\n",
              "      <td>2:08:54</td>\n",
              "      <td>7734</td>\n",
              "      <td>4</td>\n",
              "      <td>KEN</td>\n",
              "    </tr>\n",
              "    <tr>\n",
              "      <th>4</th>\n",
              "      <td>5</td>\n",
              "      <td>26</td>\n",
              "      <td>M</td>\n",
              "      <td>Kenya</td>\n",
              "      <td>2:08:55</td>\n",
              "      <td>7735</td>\n",
              "      <td>5</td>\n",
              "      <td>KEN</td>\n",
              "    </tr>\n",
              "  </tbody>\n",
              "</table>\n",
              "</div>"
            ],
            "text/plain": [
              "   Rank_Tot  Age Gender  ... Result_sec Rank_Gender  Country_code\n",
              "0         1   30      M  ...       7677           1           KEN\n",
              "1         2   29      M  ...       7679           2           ETH\n",
              "2         3   34      M  ...       7687           3           KEN\n",
              "3         4   32      M  ...       7734           4           KEN\n",
              "4         5   26      M  ...       7735           5           KEN\n",
              "\n",
              "[5 rows x 8 columns]"
            ]
          },
          "metadata": {
            "tags": []
          },
          "execution_count": 176
        }
      ]
    },
    {
      "cell_type": "code",
      "metadata": {
        "id": "g4y-OXXdIg7C",
        "outputId": "e4f79e54-79a5-44e9-d434-c6ed80a6aa35",
        "colab": {
          "base_uri": "https://localhost:8080/"
        }
      },
      "source": [
        "# Qual o número de participantes dividido por gêneros\n",
        "\n",
        "dataset[u'Gender'].value_counts()\n",
        "\n"
      ],
      "execution_count": null,
      "outputs": [
        {
          "output_type": "execute_result",
          "data": {
            "text/plain": [
              "M    14670\n",
              "F    11981\n",
              "Name: Gender, dtype: int64"
            ]
          },
          "metadata": {
            "tags": []
          },
          "execution_count": 177
        }
      ]
    },
    {
      "cell_type": "code",
      "metadata": {
        "id": "10MvfIE68D3X",
        "outputId": "51a5ec81-8964-4eed-82ea-c2c5cf606545",
        "colab": {
          "base_uri": "https://localhost:8080/",
          "height": 491
        }
      },
      "source": [
        "# Gráfico com o número de participantes dividido por gêneros\n",
        "sns.factorplot('Gender', data=dataset, kind='count')\n"
      ],
      "execution_count": null,
      "outputs": [
        {
          "output_type": "stream",
          "text": [
            "/usr/local/lib/python3.6/dist-packages/seaborn/categorical.py:3704: UserWarning: The `factorplot` function has been renamed to `catplot`. The original name will be removed in a future release. Please update your code. Note that the default `kind` in `factorplot` (`'point'`) has changed `'strip'` in `catplot`.\n",
            "  warnings.warn(msg)\n",
            "/usr/local/lib/python3.6/dist-packages/seaborn/_decorators.py:43: FutureWarning: Pass the following variable as a keyword arg: x. From version 0.12, the only valid positional argument will be `data`, and passing other arguments without an explicit keyword will result in an error or misinterpretation.\n",
            "  FutureWarning\n"
          ],
          "name": "stderr"
        },
        {
          "output_type": "execute_result",
          "data": {
            "text/plain": [
              "<seaborn.axisgrid.FacetGrid at 0x7fde1578bb38>"
            ]
          },
          "metadata": {
            "tags": []
          },
          "execution_count": 178
        },
        {
          "output_type": "display_data",
          "data": {
            "image/png": "[encoded data removed]",
            "text/plain": [
              "<Figure size 360x360 with 1 Axes>"
            ]
          },
          "metadata": {
            "tags": [],
            "needs_background": "light"
          }
        }
      ]
    },
    {
      "cell_type": "code",
      "metadata": {
        "id": "EAOcsYTVY0gR",
        "outputId": "cc60844b-7d20-47ac-e36d-af8643d774a8",
        "colab": {
          "base_uri": "https://localhost:8080/",
          "height": 320
        }
      },
      "source": [
        "#Gráfico com o percentual dividido por gênero\n",
        "\n",
        "dataset.Gender.value_counts().plot(kind='pie', autopct='%.2f%%')\n",
        "plt.axis('equal')  # Para deixar o gráfico redondo\n",
        "\n",
        "\n",
        "#dataset[u'Gender'].value_counts()\n",
        "#sns.factorplot('Gender', data=dataset, kind='count')"
      ],
      "execution_count": null,
      "outputs": [
        {
          "output_type": "execute_result",
          "data": {
            "text/plain": [
              "(-1.1105048586068416,\n",
              " 1.1005002780118365,\n",
              " -1.126763057998121,\n",
              " 1.1120638305089778)"
            ]
          },
          "metadata": {
            "tags": []
          },
          "execution_count": 179
        },
        {
          "output_type": "display_data",
          "data": {
            "image/png": "[encoded data removed]",
            "text/plain": [
              "<Figure size 432x288 with 1 Axes>"
            ]
          },
          "metadata": {
            "tags": []
          }
        }
      ]
    },
    {
      "cell_type": "code",
      "metadata": {
        "id": "B372LKxtkQkB",
        "outputId": "0096500f-5130-4d83-bb94-09d8b72c84a0",
        "colab": {
          "base_uri": "https://localhost:8080/"
        }
      },
      "source": [
        "# Quantidade de Participantes por Paises\n",
        "dataset[\"Country\"].value_counts()\n",
        "\n"
      ],
      "execution_count": null,
      "outputs": [
        {
          "output_type": "execute_result",
          "data": {
            "text/plain": [
              "United States          18902\n",
              "Canada                  1753\n",
              "United Kingdom           705\n",
              "China                    529\n",
              "Mexico                   426\n",
              "                       ...  \n",
              "Barbados                   1\n",
              "Algeria                    1\n",
              "Andorra                    1\n",
              "Antigua and Barbuda        1\n",
              "Cambodia                   1\n",
              "Name: Country, Length: 109, dtype: int64"
            ]
          },
          "metadata": {
            "tags": []
          },
          "execution_count": 196
        }
      ]
    },
    {
      "cell_type": "code",
      "metadata": {
        "id": "3fr1AV2x6lxM",
        "outputId": "19233b23-b635-45f7-cc5b-63e4dd08655d",
        "colab": {
          "base_uri": "https://localhost:8080/",
          "height": 335
        }
      },
      "source": [
        "#Gráfico com a quantidade de participantes por países\n",
        "dataset['Country'].value_counts().head(10).plot(kind='bar',\n",
        "                                                figsize=(15,5),\n",
        "                                                grid=False,\n",
        "                                                rot=0,\n",
        "                                                color='blue')\n",
        "plt.title('Número de participantes por países')\n",
        "plt.xlabel('Top 10 dos países')\n",
        "plt.ylabel('Quantidade de participante')\n",
        "plt.show()\n"
      ],
      "execution_count": null,
      "outputs": [
        {
          "output_type": "display_data",
          "data": {
            "image/png": "[encoded data removed]",
            "text/plain": [
              "<Figure size 1080x360 with 1 Axes>"
            ]
          },
          "metadata": {
            "tags": [],
            "needs_background": "light"
          }
        }
      ]
    },
    {
      "cell_type": "code",
      "metadata": {
        "id": "7mzJV4eKlNY1",
        "outputId": "ebeda740-642a-42e4-dba8-ccded1a41f7c",
        "colab": {
          "base_uri": "https://localhost:8080/",
          "height": 575
        }
      },
      "source": [
        "#Valor percentual dos paises participantes\n",
        "\n",
        "dataset[\"Country\"].value_counts(normalize=True)\n",
        "dataset.Country.value_counts().head(10).plot(kind='pie', autopct='%.2f%%')\n",
        "plt.axis('equal')  # Para deixar o gráfico redondo\n",
        "plt.gcf().set_size_inches(10, 10) # alterar tamanho\n",
        "\n"
      ],
      "execution_count": null,
      "outputs": [
        {
          "output_type": "display_data",
          "data": {
            "image/png": "[encoded data removed]",
            "text/plain": [
              "<Figure size 720x720 with 1 Axes>"
            ]
          },
          "metadata": {
            "tags": []
          }
        }
      ]
    },
    {
      "cell_type": "code",
      "metadata": {
        "id": "ayJFIGHXQhvM",
        "outputId": "fab62f05-9c58-465c-9433-7678506c1d94",
        "colab": {
          "base_uri": "https://localhost:8080/",
          "height": 419
        }
      },
      "source": [
        "#Dividindo o Dataset pelo Pais Brasil\n",
        "dataset.loc[(dataset[\"Country\"]==\"Brazil\") & (dataset[\"Country_code\"]==\"BRA\")]\n"
      ],
      "execution_count": null,
      "outputs": [
        {
          "output_type": "execute_result",
          "data": {
            "text/html": [
              "<div>\n",
              "<style scoped>\n",
              "    .dataframe tbody tr th:only-of-type {\n",
              "        vertical-align: middle;\n",
              "    }\n",
              "\n",
              "    .dataframe tbody tr th {\n",
              "        vertical-align: top;\n",
              "    }\n",
              "\n",
              "    .dataframe thead th {\n",
              "        text-align: right;\n",
              "    }\n",
              "</style>\n",
              "<table border=\"1\" class=\"dataframe\">\n",
              "  <thead>\n",
              "    <tr style=\"text-align: right;\">\n",
              "      <th></th>\n",
              "      <th>Rank_Tot</th>\n",
              "      <th>Age</th>\n",
              "      <th>Gender</th>\n",
              "      <th>Country</th>\n",
              "      <th>Result_hr</th>\n",
              "      <th>Result_sec</th>\n",
              "      <th>Rank_Gender</th>\n",
              "      <th>Country_code</th>\n",
              "    </tr>\n",
              "  </thead>\n",
              "  <tbody>\n",
              "    <tr>\n",
              "      <th>106</th>\n",
              "      <td>118</td>\n",
              "      <td>47</td>\n",
              "      <td>M</td>\n",
              "      <td>Brazil</td>\n",
              "      <td>2:30:58</td>\n",
              "      <td>9058</td>\n",
              "      <td>107</td>\n",
              "      <td>BRA</td>\n",
              "    </tr>\n",
              "    <tr>\n",
              "      <th>270</th>\n",
              "      <td>292</td>\n",
              "      <td>39</td>\n",
              "      <td>M</td>\n",
              "      <td>Brazil</td>\n",
              "      <td>2:38:18</td>\n",
              "      <td>9498</td>\n",
              "      <td>271</td>\n",
              "      <td>BRA</td>\n",
              "    </tr>\n",
              "    <tr>\n",
              "      <th>348</th>\n",
              "      <td>373</td>\n",
              "      <td>50</td>\n",
              "      <td>M</td>\n",
              "      <td>Brazil</td>\n",
              "      <td>2:39:54</td>\n",
              "      <td>9594</td>\n",
              "      <td>349</td>\n",
              "      <td>BRA</td>\n",
              "    </tr>\n",
              "    <tr>\n",
              "      <th>398</th>\n",
              "      <td>428</td>\n",
              "      <td>46</td>\n",
              "      <td>M</td>\n",
              "      <td>Brazil</td>\n",
              "      <td>2:40:59</td>\n",
              "      <td>9659</td>\n",
              "      <td>399</td>\n",
              "      <td>BRA</td>\n",
              "    </tr>\n",
              "    <tr>\n",
              "      <th>497</th>\n",
              "      <td>538</td>\n",
              "      <td>38</td>\n",
              "      <td>M</td>\n",
              "      <td>Brazil</td>\n",
              "      <td>2:43:30</td>\n",
              "      <td>9810</td>\n",
              "      <td>498</td>\n",
              "      <td>BRA</td>\n",
              "    </tr>\n",
              "    <tr>\n",
              "      <th>...</th>\n",
              "      <td>...</td>\n",
              "      <td>...</td>\n",
              "      <td>...</td>\n",
              "      <td>...</td>\n",
              "      <td>...</td>\n",
              "      <td>...</td>\n",
              "      <td>...</td>\n",
              "      <td>...</td>\n",
              "    </tr>\n",
              "    <tr>\n",
              "      <th>24764</th>\n",
              "      <td>23217</td>\n",
              "      <td>61</td>\n",
              "      <td>F</td>\n",
              "      <td>Brazil</td>\n",
              "      <td>4:47:19</td>\n",
              "      <td>17239</td>\n",
              "      <td>10095</td>\n",
              "      <td>BRA</td>\n",
              "    </tr>\n",
              "    <tr>\n",
              "      <th>25401</th>\n",
              "      <td>24410</td>\n",
              "      <td>44</td>\n",
              "      <td>F</td>\n",
              "      <td>Brazil</td>\n",
              "      <td>5:03:51</td>\n",
              "      <td>18231</td>\n",
              "      <td>10732</td>\n",
              "      <td>BRA</td>\n",
              "    </tr>\n",
              "    <tr>\n",
              "      <th>25546</th>\n",
              "      <td>24672</td>\n",
              "      <td>59</td>\n",
              "      <td>F</td>\n",
              "      <td>Brazil</td>\n",
              "      <td>5:09:09</td>\n",
              "      <td>18549</td>\n",
              "      <td>10877</td>\n",
              "      <td>BRA</td>\n",
              "    </tr>\n",
              "    <tr>\n",
              "      <th>26106</th>\n",
              "      <td>25693</td>\n",
              "      <td>57</td>\n",
              "      <td>F</td>\n",
              "      <td>Brazil</td>\n",
              "      <td>5:31:57</td>\n",
              "      <td>19917</td>\n",
              "      <td>11437</td>\n",
              "      <td>BRA</td>\n",
              "    </tr>\n",
              "    <tr>\n",
              "      <th>26176</th>\n",
              "      <td>25811</td>\n",
              "      <td>47</td>\n",
              "      <td>F</td>\n",
              "      <td>Brazil</td>\n",
              "      <td>5:35:55</td>\n",
              "      <td>20155</td>\n",
              "      <td>11507</td>\n",
              "      <td>BRA</td>\n",
              "    </tr>\n",
              "  </tbody>\n",
              "</table>\n",
              "<p>277 rows × 8 columns</p>\n",
              "</div>"
            ],
            "text/plain": [
              "       Rank_Tot  Age Gender  ... Result_sec Rank_Gender  Country_code\n",
              "106         118   47      M  ...       9058         107           BRA\n",
              "270         292   39      M  ...       9498         271           BRA\n",
              "348         373   50      M  ...       9594         349           BRA\n",
              "398         428   46      M  ...       9659         399           BRA\n",
              "497         538   38      M  ...       9810         498           BRA\n",
              "...         ...  ...    ...  ...        ...         ...           ...\n",
              "24764     23217   61      F  ...      17239       10095           BRA\n",
              "25401     24410   44      F  ...      18231       10732           BRA\n",
              "25546     24672   59      F  ...      18549       10877           BRA\n",
              "26106     25693   57      F  ...      19917       11437           BRA\n",
              "26176     25811   47      F  ...      20155       11507           BRA\n",
              "\n",
              "[277 rows x 8 columns]"
            ]
          },
          "metadata": {
            "tags": []
          },
          "execution_count": 183
        }
      ]
    },
    {
      "cell_type": "code",
      "metadata": {
        "id": "6WqbdQul9gPk",
        "outputId": "698f0b09-6474-4cf7-be23-efcdeec06b63",
        "colab": {
          "base_uri": "https://localhost:8080/"
        }
      },
      "source": [
        "#Quantidade de Brasileiros na prova\n",
        "dataset.loc[(dataset[\"Country\"]==\"Brazil\") & (dataset[\"Country_code\"]==\"BRA\")].count()\n",
        " \n",
        "\n",
        "\n"
      ],
      "execution_count": null,
      "outputs": [
        {
          "output_type": "execute_result",
          "data": {
            "text/plain": [
              "Rank_Tot        277\n",
              "Age             277\n",
              "Gender          277\n",
              "Country         277\n",
              "Result_hr       277\n",
              "Result_sec      277\n",
              "Rank_Gender     277\n",
              "Country_code    277\n",
              "dtype: int64"
            ]
          },
          "metadata": {
            "tags": []
          },
          "execution_count": 184
        }
      ]
    },
    {
      "cell_type": "code",
      "metadata": {
        "id": "sjdz0UVD9ttf",
        "outputId": "41b6ed6f-6f64-44e4-b51d-9345675d7865",
        "colab": {
          "base_uri": "https://localhost:8080/"
        }
      },
      "source": [
        "#Quantidade de Brasileiros do sexo masculino\n",
        "dataset.loc[(dataset[\"Country\"]==\"Brazil\") & (dataset[\"Country_code\"]==\"BRA\")&(dataset[\"Gender\"]==\"M\")&(dataset[\"Gender\"]==\"M\")].count()\n"
      ],
      "execution_count": null,
      "outputs": [
        {
          "output_type": "execute_result",
          "data": {
            "text/plain": [
              "Rank_Tot        187\n",
              "Age             187\n",
              "Gender          187\n",
              "Country         187\n",
              "Result_hr       187\n",
              "Result_sec      187\n",
              "Rank_Gender     187\n",
              "Country_code    187\n",
              "dtype: int64"
            ]
          },
          "metadata": {
            "tags": []
          },
          "execution_count": 185
        }
      ]
    },
    {
      "cell_type": "code",
      "metadata": {
        "id": "c3x79Eqm-VDB",
        "outputId": "c1efdc6e-0885-43a2-95d2-6ea5bb751f83",
        "colab": {
          "base_uri": "https://localhost:8080/"
        }
      },
      "source": [
        "#Quantidade de Brasileiros do sexo Feminino\n",
        "dataset.loc[(dataset[\"Country\"]==\"Brazil\") & (dataset[\"Country_code\"]==\"BRA\")&(dataset[\"Gender\"]==\"F\") ].count()\n"
      ],
      "execution_count": null,
      "outputs": [
        {
          "output_type": "execute_result",
          "data": {
            "text/plain": [
              "Rank_Tot        90\n",
              "Age             90\n",
              "Gender          90\n",
              "Country         90\n",
              "Result_hr       90\n",
              "Result_sec      90\n",
              "Rank_Gender     90\n",
              "Country_code    90\n",
              "dtype: int64"
            ]
          },
          "metadata": {
            "tags": []
          },
          "execution_count": 186
        }
      ]
    },
    {
      "cell_type": "code",
      "metadata": {
        "id": "6ZB90_U9CZ78",
        "outputId": "dbd08749-d458-4980-d146-1b0db490d99c",
        "colab": {
          "base_uri": "https://localhost:8080/"
        }
      },
      "source": [
        "#Quantidade de Brasileiros do sexo masculino que terminaram em menos de 3h\n",
        "dataset.loc[(dataset[\"Country\"]==\"Brazil\") & (dataset[\"Country_code\"]==\"BRA\")&(dataset[\"Gender\"]==\"M\")&(dataset[\"Result_hr\"]<='3:00:00') ].count()\n"
      ],
      "execution_count": null,
      "outputs": [
        {
          "output_type": "execute_result",
          "data": {
            "text/plain": [
              "Rank_Tot        41\n",
              "Age             41\n",
              "Gender          41\n",
              "Country         41\n",
              "Result_hr       41\n",
              "Result_sec      41\n",
              "Rank_Gender     41\n",
              "Country_code    41\n",
              "dtype: int64"
            ]
          },
          "metadata": {
            "tags": []
          },
          "execution_count": 187
        }
      ]
    },
    {
      "cell_type": "code",
      "metadata": {
        "id": "yaR9FnplC6xv",
        "outputId": "62aa92f3-5567-4066-b885-538ea263e837",
        "colab": {
          "base_uri": "https://localhost:8080/"
        }
      },
      "source": [
        "#Quantidade de Brasileiros do sexo feminino que terminaram em menos de 3h\n",
        "dataset.loc[(dataset[\"Country\"]==\"Brazil\") & (dataset[\"Country_code\"]==\"BRA\")&(dataset[\"Gender\"]==\"F\")&(dataset[\"Result_hr\"]<='3:00:00') ].count()\n"
      ],
      "execution_count": null,
      "outputs": [
        {
          "output_type": "execute_result",
          "data": {
            "text/plain": [
              "Rank_Tot        0\n",
              "Age             0\n",
              "Gender          0\n",
              "Country         0\n",
              "Result_hr       0\n",
              "Result_sec      0\n",
              "Rank_Gender     0\n",
              "Country_code    0\n",
              "dtype: int64"
            ]
          },
          "metadata": {
            "tags": []
          },
          "execution_count": 188
        }
      ]
    },
    {
      "cell_type": "code",
      "metadata": {
        "id": "L1lqLcCVG5CY",
        "outputId": "145c505d-396d-471c-be4a-f08dafe5c996",
        "colab": {
          "base_uri": "https://localhost:8080/"
        }
      },
      "source": [
        "# O menor tempo na categoria feminina na maratona de Boston\n",
        "dataset.loc[(dataset[\"Country\"]==\"Brazil\") & (dataset[\"Country_code\"]==\"BRA\")&(dataset[\"Gender\"]==\"F\")&(dataset[\"Result_hr\"])].min()\n"
      ],
      "execution_count": null,
      "outputs": [
        {
          "output_type": "execute_result",
          "data": {
            "text/plain": [
              "Rank_Tot           5481\n",
              "Age                  25\n",
              "Gender                F\n",
              "Country          Brazil\n",
              "Result_hr       3:15:29\n",
              "Result_sec        11729\n",
              "Rank_Gender         718\n",
              "Country_code        BRA\n",
              "dtype: object"
            ]
          },
          "metadata": {
            "tags": []
          },
          "execution_count": 189
        }
      ]
    },
    {
      "cell_type": "code",
      "metadata": {
        "id": "f3-LH816HsPO",
        "outputId": "94a6da70-2054-49da-d0cc-6a5f41925341",
        "colab": {
          "base_uri": "https://localhost:8080/"
        }
      },
      "source": [
        "# O maior tempo na categoria feminina na maratona de Boston\n",
        "dataset.loc[(dataset[\"Country\"]==\"Brazil\") & (dataset[\"Country_code\"]==\"BRA\")&(dataset[\"Gender\"]==\"F\")&(dataset[\"Result_hr\"]) ].max()\n"
      ],
      "execution_count": null,
      "outputs": [
        {
          "output_type": "execute_result",
          "data": {
            "text/plain": [
              "Rank_Tot          25811\n",
              "Age                  64\n",
              "Gender                F\n",
              "Country          Brazil\n",
              "Result_hr       5:35:55\n",
              "Result_sec        20155\n",
              "Rank_Gender       11507\n",
              "Country_code        BRA\n",
              "dtype: object"
            ]
          },
          "metadata": {
            "tags": []
          },
          "execution_count": 190
        }
      ]
    },
    {
      "cell_type": "code",
      "metadata": {
        "id": "WUnneOZKH6cr",
        "outputId": "12655c51-f42c-46af-8a79-445a3b7107a6",
        "colab": {
          "base_uri": "https://localhost:8080/"
        }
      },
      "source": [
        "## O menor tempo na categoria masculina na maratona de Boston\n",
        "dataset.loc[(dataset[\"Country\"]==\"Brazil\") & (dataset[\"Country_code\"]==\"BRA\")&(dataset[\"Gender\"]==\"M\")&(dataset[\"Result_hr\"]) ].min()\n"
      ],
      "execution_count": null,
      "outputs": [
        {
          "output_type": "execute_result",
          "data": {
            "text/plain": [
              "Rank_Tot            118\n",
              "Age                  22\n",
              "Gender                M\n",
              "Country          Brazil\n",
              "Result_hr       2:30:58\n",
              "Result_sec         9058\n",
              "Rank_Gender         107\n",
              "Country_code        BRA\n",
              "dtype: object"
            ]
          },
          "metadata": {
            "tags": []
          },
          "execution_count": 191
        }
      ]
    },
    {
      "cell_type": "code",
      "metadata": {
        "id": "eO5eoHvwIeBh",
        "outputId": "ee734008-a33f-4fd4-9116-504aa671a048",
        "colab": {
          "base_uri": "https://localhost:8080/"
        }
      },
      "source": [
        "## O maior tempo na categoria masculina na maratona de Boston\n",
        "dataset.loc[(dataset[\"Country\"]==\"Brazil\") & (dataset[\"Country_code\"]==\"BRA\")&(dataset[\"Gender\"]==\"M\")&(dataset[\"Result_hr\"]) ].max()\n"
      ],
      "execution_count": null,
      "outputs": [
        {
          "output_type": "execute_result",
          "data": {
            "text/plain": [
              "Rank_Tot          26248\n",
              "Age                  71\n",
              "Gender                M\n",
              "Country          Brazil\n",
              "Result_hr       5:49:47\n",
              "Result_sec        20987\n",
              "Rank_Gender       14506\n",
              "Country_code        BRA\n",
              "dtype: object"
            ]
          },
          "metadata": {
            "tags": []
          },
          "execution_count": 192
        }
      ]
    },
    {
      "cell_type": "code",
      "metadata": {
        "id": "NXiWUxqaL2rr",
        "outputId": "a6d070d3-274d-4213-e90c-19ce14e27b0f",
        "colab": {
          "base_uri": "https://localhost:8080/"
        }
      },
      "source": [
        "#Média de idade da categoria masculina\n",
        "dataset.loc[(dataset[\"Country\"]==\"Brazil\") & (dataset[\"Country_code\"]==\"BRA\")&(dataset[\"Gender\"]==\"M\")&(dataset[\"Age\"]) ].mean()\n",
        "\n"
      ],
      "execution_count": null,
      "outputs": [
        {
          "output_type": "execute_result",
          "data": {
            "text/plain": [
              "Rank_Tot       11213.579545\n",
              "Age               45.431818\n",
              "Result_sec     13411.306818\n",
              "Rank_Gender     7320.522727\n",
              "dtype: float64"
            ]
          },
          "metadata": {
            "tags": []
          },
          "execution_count": 193
        }
      ]
    },
    {
      "cell_type": "code",
      "metadata": {
        "id": "oN7LcTa3OKe2",
        "outputId": "313989a7-3a70-43b5-fe03-0d7f51bb8e12",
        "colab": {
          "base_uri": "https://localhost:8080/"
        }
      },
      "source": [
        "#Média de idade da categoria feminina\n",
        "dataset.loc[(dataset[\"Country\"]==\"Brazil\") & (dataset[\"Country_code\"]==\"BRA\")&(dataset[\"Gender\"]==\"F\")&(dataset[\"Age\"]) ].mean()\n"
      ],
      "execution_count": null,
      "outputs": [
        {
          "output_type": "execute_result",
          "data": {
            "text/plain": [
              "Rank_Tot       13355.244444\n",
              "Age               42.600000\n",
              "Result_sec     13851.933333\n",
              "Rank_Gender     4552.377778\n",
              "dtype: float64"
            ]
          },
          "metadata": {
            "tags": []
          },
          "execution_count": 194
        }
      ]
    }
  ]
}